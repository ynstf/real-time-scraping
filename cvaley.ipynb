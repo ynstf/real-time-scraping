{
 "cells": [
  {
   "cell_type": "code",
   "execution_count": 1,
   "id": "c0634c4e",
   "metadata": {},
   "outputs": [],
   "source": [
    "import requests\n",
    "from selenium import webdriver\n",
    "from selenium.webdriver.common.by import By\n",
    "from selenium.webdriver.common.keys import Keys\n",
    "from selenium.webdriver.chrome.service import Service as ChromeService\n",
    "from selenium.webdriver.common.action_chains import ActionChains\n",
    "from bs4 import BeautifulSoup\n",
    "import time\n",
    "from selenium.webdriver.support.ui import WebDriverWait\n",
    "from selenium.webdriver.support import expected_conditions as EC\n",
    "import re"
   ]
  },
  {
   "cell_type": "code",
   "execution_count": 2,
   "id": "17487e64",
   "metadata": {},
   "outputs": [],
   "source": [
    "url = \"https://cvaley.com/ar/%D8%A7%D9%84%D8%B9%D8%AF%D8%B3%D8%A7%D8%AA/c955858765\""
   ]
  },
  {
   "cell_type": "code",
   "execution_count": 3,
   "id": "dbdf5180",
   "metadata": {},
   "outputs": [],
   "source": [
    "options = webdriver.FirefoxOptions()\n",
    "#options.add_argument(\"--headless\")  # Run the browser in headless mode\n",
    "options.add_argument(\"--window-size=1920,1080\")  # Set the window size\n",
    "driver = webdriver.Firefox(options=options)\n",
    "# Open the webpage\n",
    "driver.get(url)"
   ]
  },
  {
   "cell_type": "code",
   "execution_count": null,
   "id": "8394a5ba",
   "metadata": {},
   "outputs": [],
   "source": []
  },
  {
   "cell_type": "code",
   "execution_count": 4,
   "id": "b5a9278b",
   "metadata": {},
   "outputs": [],
   "source": [
    "products_number= 20"
   ]
  },
  {
   "cell_type": "code",
   "execution_count": 5,
   "id": "72528416",
   "metadata": {
    "scrolled": false
   },
   "outputs": [
    {
     "name": "stdout",
     "output_type": "stream",
     "text": [
      "not found more product button\n",
      "found more product button\n",
      "not found more product button\n",
      "not found more product button\n",
      "found more product button\n",
      "not found more product button\n",
      "not found more product button\n",
      "found more product button\n",
      "not found more product button\n",
      "found more product button\n",
      "not found more product button\n",
      "found more product button\n",
      "not found more product button\n",
      "not found more product button\n",
      "found more product button\n",
      "not found more product button\n",
      "not found more product button\n",
      "found more product button\n",
      "not found more product button\n",
      "found more product button\n"
     ]
    }
   ],
   "source": [
    "for i in range(20):\n",
    "    try:\n",
    "        element = driver.find_element(By.CLASS_NAME, \"s-infinite-scroll-btn\")\n",
    "        # Click on the element\n",
    "        element.click()\n",
    "        print(\"found more product button\")\n",
    "        time.sleep(2)\n",
    "    except:\n",
    "        time.sleep(2)\n",
    "        print(\"not found more product button\")\n",
    "        \n",
    "    html = driver.page_source\n",
    "    soup = BeautifulSoup(html,'html')\n",
    "    #prices = soup.find_all(\"div\",{\"class\":\"s-product-card-sale-price\"})\n",
    "    #url = soup.find_all(\"h3\",{\"class\":\"s-product-card-content-title\"}).get(\"href\")\n",
    "    cards = soup.find_all(\"div\",{\"class\":\"s-product-card-content\"})\n",
    "    descount = []\n",
    "    urls = []\n",
    "    for card in cards:\n",
    "        try:\n",
    "            descount.append(card.find(\"div\",{\"class\":\"s-product-card-sale-price\"}).span)\n",
    "            urls.append(card.find(\"h3\",{\"class\":\"s-product-card-content-title\"}).a.get(\"href\"))\n",
    "        except:\n",
    "            pass\n",
    "    if len(descount)> products_number:\n",
    "        break\n",
    "    "
   ]
  },
  {
   "cell_type": "code",
   "execution_count": 6,
   "id": "11f18280",
   "metadata": {},
   "outputs": [
    {
     "data": {
      "text/plain": [
       "4"
      ]
     },
     "execution_count": 6,
     "metadata": {},
     "output_type": "execute_result"
    }
   ],
   "source": [
    "len(urls)"
   ]
  },
  {
   "cell_type": "code",
   "execution_count": null,
   "id": "902aa46a",
   "metadata": {},
   "outputs": [],
   "source": []
  },
  {
   "cell_type": "code",
   "execution_count": null,
   "id": "5cfa9bb7",
   "metadata": {},
   "outputs": [],
   "source": []
  },
  {
   "cell_type": "code",
   "execution_count": 8,
   "id": "3e4e1dc7",
   "metadata": {
    "scrolled": true
   },
   "outputs": [
    {
     "name": "stdout",
     "output_type": "stream",
     "text": [
      "كريستال هارتز - عدسات بيورنس براون -BROWN\n",
      "90 SAR\n",
      "35 SAR\n",
      "61.11%\n",
      "['https://cdn.salla.sa/PBDO/8XRbBog2VRXxdapW0j7pPaCX8N94fjlNILqqvDag.png', 'https://cdn.salla.sa/PBDO/HA70BwCTOZWudjn4P1TpftOnXRC1rAFqni9bqWW3.png', 'https://cdn.salla.sa/PBDO/RSc6eu87ekaCRq7t5Gci8p9haQwPpHmVFnyRyNJV.png', 'https://cdn.salla.sa/PBDO/tQ54SPwB7cqVSYNprWhxyZlV1XBI0qhmqj30qc31.png']\n",
      "\n"
     ]
    },
    {
     "ename": "NameError",
     "evalue": "name 'desc' is not defined",
     "output_type": "error",
     "traceback": [
      "\u001b[1;31m---------------------------------------------------------------------------\u001b[0m",
      "\u001b[1;31mNameError\u001b[0m                                 Traceback (most recent call last)",
      "Input \u001b[1;32mIn [8]\u001b[0m, in \u001b[0;36m<cell line: 4>\u001b[1;34m()\u001b[0m\n\u001b[0;32m     54\u001b[0m \u001b[38;5;28;01mif\u001b[39;00m (discount_rate \u001b[38;5;241m!=\u001b[39m \u001b[38;5;28;01mNone\u001b[39;00m) \u001b[38;5;129;01mand\u001b[39;00m (title \u001b[38;5;241m!=\u001b[39m \u001b[38;5;28;01mNone\u001b[39;00m) \u001b[38;5;129;01mand\u001b[39;00m (product_url \u001b[38;5;241m!=\u001b[39m \u001b[38;5;28;01mNone\u001b[39;00m)  \u001b[38;5;129;01mand\u001b[39;00m (new_price \u001b[38;5;241m!=\u001b[39m \u001b[38;5;28;01mNone\u001b[39;00m) \u001b[38;5;129;01mand\u001b[39;00m (old_price \u001b[38;5;241m!=\u001b[39m \u001b[38;5;28;01mNone\u001b[39;00m) \u001b[38;5;129;01mand\u001b[39;00m (discount_rate \u001b[38;5;241m!=\u001b[39m \u001b[38;5;28;01mNone\u001b[39;00m) \u001b[38;5;129;01mand\u001b[39;00m (title \u001b[38;5;241m!=\u001b[39m \u001b[38;5;28;01mNone\u001b[39;00m) :\n\u001b[0;32m     55\u001b[0m     product_scraped\u001b[38;5;241m+\u001b[39m\u001b[38;5;241m=\u001b[39m\u001b[38;5;241m1\u001b[39m\n\u001b[0;32m     56\u001b[0m     product_info\u001b[38;5;241m.\u001b[39mappend({\n\u001b[0;32m     57\u001b[0m         \u001b[38;5;124m'\u001b[39m\u001b[38;5;124mTitle\u001b[39m\u001b[38;5;124m'\u001b[39m: title,\n\u001b[0;32m     58\u001b[0m         \u001b[38;5;124m'\u001b[39m\u001b[38;5;124mImage_URL\u001b[39m\u001b[38;5;124m'\u001b[39m: image_url,\n\u001b[0;32m     59\u001b[0m         \u001b[38;5;124m'\u001b[39m\u001b[38;5;124mPrice\u001b[39m\u001b[38;5;124m'\u001b[39m: new_price,\n\u001b[0;32m     60\u001b[0m         \u001b[38;5;124m'\u001b[39m\u001b[38;5;124mDiscount\u001b[39m\u001b[38;5;124m'\u001b[39m: discount_rate,\n\u001b[0;32m     61\u001b[0m         \u001b[38;5;124m'\u001b[39m\u001b[38;5;124moriginal_price\u001b[39m\u001b[38;5;124m'\u001b[39m:old_price,\n\u001b[1;32m---> 62\u001b[0m         \u001b[38;5;124m'\u001b[39m\u001b[38;5;124mdescription\u001b[39m\u001b[38;5;124m'\u001b[39m:\u001b[43mdesc\u001b[49m,\n\u001b[0;32m     63\u001b[0m         \u001b[38;5;124m'\u001b[39m\u001b[38;5;124mProduct_URL\u001b[39m\u001b[38;5;124m'\u001b[39m:product_url\n\u001b[0;32m     64\u001b[0m     })\n\u001b[0;32m     65\u001b[0m     \u001b[38;5;28mprint\u001b[39m(\u001b[38;5;124m'\u001b[39m\u001b[38;5;124mi have now\u001b[39m\u001b[38;5;124m'\u001b[39m, product_scraped)\n\u001b[0;32m     66\u001b[0m     \u001b[38;5;28mprint\u001b[39m(\u001b[38;5;124m'\u001b[39m\u001b[38;5;124mi want \u001b[39m\u001b[38;5;124m'\u001b[39m,products_number)\n",
      "\u001b[1;31mNameError\u001b[0m: name 'desc' is not defined"
     ]
    }
   ],
   "source": [
    "product_scraped=0\n",
    "product_info = []\n",
    "\n",
    "for u in urls:\n",
    "    html = requests.get(u).content\n",
    "    soup = BeautifulSoup(html,'lxml')\n",
    "    \n",
    "    product_url = u\n",
    "    \n",
    "    title = soup.find(\"h1\",{'class':'text-xl md:text-2xl leading-10 font-bold mb-6 text-gray-800'}).text.strip()\n",
    "    print(title)\n",
    "    \n",
    "    #desc = soup.find(\"div\",{'class':'product__description'}).text.strip()\n",
    "    #print(desc)\n",
    "    \n",
    "    old_price = soup.find('span',{'class':\"before-price\"}).text.strip()\n",
    "    print(old_price)\n",
    "    \n",
    "    new_price = soup.find('h4',{'class':\"total-price\"}).text.strip()\n",
    "    print(new_price)\n",
    "    \n",
    "    \n",
    "    try:\n",
    "        old_price_str = old_price\n",
    "        new_price_str = new_price\n",
    "        # Extract numeric values using regular expression\n",
    "        old_price_match = re.search(r'\\d+', old_price_str)\n",
    "        new_price_match = re.search(r'\\d+', new_price_str)\n",
    "        # Convert the matched strings to numeric values\n",
    "        old = float(old_price_match.group())\n",
    "        new = float(new_price_match.group())\n",
    "        # Calculate the discount rate\n",
    "        discount_rate = f\"{((old - new) / old) * 100:.2f}%\"\n",
    "    except:\n",
    "        discount_rate = None\n",
    "\n",
    "    print(discount_rate)\n",
    "    \n",
    "    image_url=[]\n",
    "    slid = soup.find_all('div',{'class':'slide--one-fourth'})\n",
    "    if len(slid)>0:\n",
    "        for img in slid:\n",
    "            #print(img.find('img').get('src'))\n",
    "            image_url.append(img.find('img').get('src'))\n",
    "    else:\n",
    "        img = soup.find('img',{'class':'h-full object- w-full'}).get('src')\n",
    "        image_url.append(img)\n",
    "        #print(img)\n",
    "\n",
    "    print(image_url)\n",
    "    \n",
    "\n",
    "    print()\n",
    "    if (discount_rate != None) and (title != None) and (product_url != None)  and (new_price != None) and (old_price != None) and (discount_rate != None) and (title != None) :\n",
    "        product_scraped+=1\n",
    "        product_info.append({\n",
    "            'Title': title,\n",
    "            'Image_URL': image_url,\n",
    "            'Price': new_price,\n",
    "            'Discount': discount_rate,\n",
    "            'original_price':old_price,\n",
    "            'description':desc,\n",
    "            'Product_URL':product_url\n",
    "        })\n",
    "        print('i have now', product_scraped)\n",
    "        print('i want ',products_number)\n",
    "        if product_scraped >= products_number:\n",
    "            print(\"i break\")\n",
    "            break\n",
    "    "
   ]
  },
  {
   "cell_type": "code",
   "execution_count": 9,
   "id": "7e825d3e",
   "metadata": {
    "scrolled": true
   },
   "outputs": [
    {
     "data": {
      "text/plain": [
       "[]"
      ]
     },
     "execution_count": 9,
     "metadata": {},
     "output_type": "execute_result"
    }
   ],
   "source": [
    "product_info"
   ]
  },
  {
   "cell_type": "code",
   "execution_count": 51,
   "id": "b95be2e5",
   "metadata": {},
   "outputs": [],
   "source": []
  },
  {
   "cell_type": "code",
   "execution_count": null,
   "id": "284039e3",
   "metadata": {},
   "outputs": [],
   "source": []
  },
  {
   "cell_type": "code",
   "execution_count": null,
   "id": "12214a80",
   "metadata": {},
   "outputs": [],
   "source": []
  },
  {
   "cell_type": "code",
   "execution_count": null,
   "id": "8c5c243a",
   "metadata": {},
   "outputs": [],
   "source": []
  },
  {
   "cell_type": "code",
   "execution_count": null,
   "id": "8fb3037a",
   "metadata": {},
   "outputs": [],
   "source": []
  }
 ],
 "metadata": {
  "kernelspec": {
   "display_name": "Python 3 (ipykernel)",
   "language": "python",
   "name": "python3"
  },
  "language_info": {
   "codemirror_mode": {
    "name": "ipython",
    "version": 3
   },
   "file_extension": ".py",
   "mimetype": "text/x-python",
   "name": "python",
   "nbconvert_exporter": "python",
   "pygments_lexer": "ipython3",
   "version": "3.9.12"
  }
 },
 "nbformat": 4,
 "nbformat_minor": 5
}
