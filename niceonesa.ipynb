{
 "cells": [
  {
   "cell_type": "code",
   "execution_count": 1,
   "id": "837de152",
   "metadata": {},
   "outputs": [],
   "source": [
    "import requests\n",
    "from bs4 import BeautifulSoup\n",
    "import time\n"
   ]
  },
  {
   "cell_type": "code",
   "execution_count": 2,
   "id": "71e47d68",
   "metadata": {},
   "outputs": [],
   "source": [
    "url = \"https://niceonesa.com/ar/care/?page=1\""
   ]
  },
  {
   "cell_type": "code",
   "execution_count": 39,
   "id": "454539ed",
   "metadata": {},
   "outputs": [],
   "source": [
    "products_number = 8"
   ]
  },
  {
   "cell_type": "code",
   "execution_count": null,
   "id": "fefe594b",
   "metadata": {},
   "outputs": [],
   "source": []
  },
  {
   "cell_type": "code",
   "execution_count": 22,
   "id": "256b3e88",
   "metadata": {},
   "outputs": [],
   "source": [
    "html = requests.get(url)"
   ]
  },
  {
   "cell_type": "code",
   "execution_count": 23,
   "id": "5ce812d1",
   "metadata": {},
   "outputs": [],
   "source": [
    "soup = BeautifulSoup(html.content,'html.parser')"
   ]
  },
  {
   "cell_type": "code",
   "execution_count": 38,
   "id": "f6ce770d",
   "metadata": {},
   "outputs": [
    {
     "name": "stdout",
     "output_type": "stream",
     "text": [
      "i found page_numbers\n"
     ]
    }
   ],
   "source": [
    "#titles = soup.find_all(\"h3\", {\"class\":\"product-title\"})\n",
    "products = soup.find_all(\"div\", {\"class\":\"product-container\"})\n",
    "pages = soup.find_all(\"li\", {\"class\":\"page-item\"})\n",
    "try:\n",
    "    page_numbers = int(pages[-1].a.get('href').split(\"page=\")[-1])\n",
    "    print('i found page_numbers')\n",
    "except:\n",
    "    print('page_numbers dont found ')"
   ]
  },
  {
   "cell_type": "code",
   "execution_count": 37,
   "id": "f330a180",
   "metadata": {},
   "outputs": [
    {
     "name": "stdout",
     "output_type": "stream",
     "text": [
      "68\n"
     ]
    }
   ],
   "source": [
    "print(page_numbers)"
   ]
  },
  {
   "cell_type": "code",
   "execution_count": 6,
   "id": "9ed94be7",
   "metadata": {},
   "outputs": [
    {
     "data": {
      "text/plain": [
       "60"
      ]
     },
     "execution_count": 6,
     "metadata": {},
     "output_type": "execute_result"
    }
   ],
   "source": [
    "len(products)"
   ]
  },
  {
   "cell_type": "code",
   "execution_count": 46,
   "id": "941d5da9",
   "metadata": {
    "scrolled": true
   },
   "outputs": [
    {
     "name": "stdout",
     "output_type": "stream",
     "text": [
      "https://niceonesa.com/ar/care/?page=1\n",
      "i have now 1\n",
      "i want  8\n",
      "i have now 2\n",
      "i want  8\n",
      "i have now 3\n",
      "i want  8\n",
      "i have now 4\n",
      "i want  8\n",
      "https://niceonesa.com/ar/care/?page=2\n",
      "i have now 5\n",
      "i want  8\n",
      "i have now 6\n",
      "i want  8\n",
      "i have now 7\n",
      "i want  8\n",
      "i have now 8\n",
      "i want  8\n",
      "yes\n",
      "yes\n"
     ]
    }
   ],
   "source": [
    "product_info = []\n",
    "product_scraped = 0\n",
    "for p in range(1,page_numbers+1):\n",
    "    \n",
    "    url = url.split(\"page\")[0]+f\"page={p}\"\n",
    "    print(url)\n",
    "    html = requests.get(url)\n",
    "    soup = BeautifulSoup(html.content,'html.parser')\n",
    "    products = soup.find_all(\"div\", {\"class\":\"product-container\"})\n",
    "    \n",
    "    \n",
    "    for i in range(len(products)):\n",
    "        try:\n",
    "            title = products[i].find(\"h3\", {\"class\":\"product-title\"}).text.strip()\n",
    "        except:\n",
    "            title = None\n",
    "        #print(title)\n",
    "\n",
    "        try :\n",
    "            img = products[i].find('img').get('data-url')\n",
    "            \n",
    "        except :\n",
    "            img= None\n",
    "        #print(img)\n",
    "\n",
    "        try:\n",
    "            old_price = products[i].find(\"h3\", {\"class\":\"preReductionPrice\"}).text.strip()\n",
    "\n",
    "        except:\n",
    "            old_price= None\n",
    "        #print(old_price)\n",
    "\n",
    "\n",
    "        try:\n",
    "            discount_rate = products[i].find(\"span\", {\"class\":\"discountBadge mt-3\"}).text.strip()\n",
    "        except:\n",
    "            discount_rate = None\n",
    "        #print(discount_rate)\n",
    "\n",
    "\n",
    "        try:\n",
    "            new_price = products[i].find(\"h3\", {\"class\":\"sellingPrice text-nowrap\"}).text.strip()\n",
    "        except:\n",
    "            new_price=None\n",
    "        #print(new_price)\n",
    "\n",
    "\n",
    "        try:\n",
    "            product_url = products[i].find('a').get('href')\n",
    "\n",
    "            product_url = \"https://niceonesa.com\"+product_url.replace('en-US','ar')\n",
    "            ns = requests.get(product_url)\n",
    "            soup = BeautifulSoup(ns.content,'html.parser')\n",
    "            try:\n",
    "                desc = soup.find(\"div\", {\"class\":\"pannel-body\"}).text.strip().split('ISBN')[0]\n",
    "            except:\n",
    "                decs = None\n",
    "\n",
    "        except:\n",
    "            product_url = None\n",
    "            decs = None\n",
    "\n",
    "        #print(product_url)\n",
    "        #print(desc)\n",
    "\n",
    "\n",
    "\n",
    "\n",
    "        #print()\n",
    "        if (discount_rate != None) and (title != None) and (product_url != None)  and (new_price != None) and (old_price != None) and (discount_rate != None) and (title != None) and (img != None):\n",
    "            product_scraped+=1\n",
    "            product_info.append({\n",
    "                'Title': title,\n",
    "                'Image_URL': img,\n",
    "                'Price': new_price,\n",
    "                'Discount': discount_rate,\n",
    "                'original_price':old_price,\n",
    "                'description':desc,\n",
    "                'Product_URL':product_url\n",
    "            })\n",
    "            print('i have now', product_scraped)\n",
    "            print('i want ',products_number)\n",
    "            if product_scraped >= products_number:\n",
    "                print(\"i break\")\n",
    "                break\n",
    "        if product_scraped >= products_number:\n",
    "            print(\"i break\")\n",
    "            break\n",
    "    if product_scraped >= products_number:\n",
    "        print(\"i break\")\n",
    "        break\n"
   ]
  },
  {
   "cell_type": "code",
   "execution_count": 47,
   "id": "3047bbd7",
   "metadata": {},
   "outputs": [
    {
     "data": {
      "text/plain": [
       "8"
      ]
     },
     "execution_count": 47,
     "metadata": {},
     "output_type": "execute_result"
    }
   ],
   "source": [
    "len(product_info)"
   ]
  },
  {
   "cell_type": "code",
   "execution_count": null,
   "id": "264f1a3c",
   "metadata": {},
   "outputs": [],
   "source": []
  }
 ],
 "metadata": {
  "kernelspec": {
   "display_name": "Python 3 (ipykernel)",
   "language": "python",
   "name": "python3"
  },
  "language_info": {
   "codemirror_mode": {
    "name": "ipython",
    "version": 3
   },
   "file_extension": ".py",
   "mimetype": "text/x-python",
   "name": "python",
   "nbconvert_exporter": "python",
   "pygments_lexer": "ipython3",
   "version": "3.9.12"
  }
 },
 "nbformat": 4,
 "nbformat_minor": 5
}
